{
 "cells": [
  {
   "cell_type": "markdown",
   "id": "f64c531e",
   "metadata": {},
   "source": [
    "# Matrix Multiplication Using Numpy Library"
   ]
  },
  {
   "cell_type": "code",
   "execution_count": 1,
   "id": "9978997d",
   "metadata": {},
   "outputs": [
    {
     "name": "stdout",
     "output_type": "stream",
     "text": [
      "arr1= [[87 74 45 ... 17 30 87]\n",
      " [63 19 88 ... 74 23 35]\n",
      " [91 47 94 ... 66 44 18]\n",
      " ...\n",
      " [ 2 23 55 ... 67 61 22]\n",
      " [72 68 75 ... 80 59 98]\n",
      " [ 5 40 96 ...  0 98  7]]\n",
      "\n",
      "arr2= [[76 69 50 ...  7 44 38]\n",
      " [23 42 76 ... 64 80 82]\n",
      " [30 73 19 ... 34 40 19]\n",
      " ...\n",
      " [33 75 93 ... 57 68 16]\n",
      " [85 96 29 ... 78 96 70]\n",
      " [25 18  4 ... 95 26 95]]\n",
      "\n",
      "Final Result Array= [[252887 224588 212447 ... 224441 236279 259489]\n",
      " [225966 213394 207025 ... 194140 206395 226384]\n",
      " [288470 243150 252820 ... 253166 275055 301294]\n",
      " ...\n",
      " [261963 242948 248544 ... 248272 256423 275223]\n",
      " [293914 260100 257940 ... 269825 274006 306169]\n",
      " [261816 215145 220779 ... 241507 253810 278645]]\n",
      "\n",
      "Time to multiply  2 100*100 matrices 0.00255584716796875 seconds\n"
     ]
    }
   ],
   "source": [
    "import numpy as np\n",
    "import matplotlib.pyplot as plt\n",
    "import os\n",
    "import time\n",
    "\n",
    "# 100* 100\n",
    "\n",
    "start_time_1=time.time()\n",
    "arr1=np.random.randint(100,size=(100,100)) #create a 100*100 array ranging from 0 to 99\n",
    "\n",
    "print(\"arr1=\", arr1)\n",
    "\n",
    "arr2=np.random.randint(100,size=(100,100)) #create another 100*100 array ranging from 0 to 99\n",
    "\n",
    "print(\"\\narr2=\", arr2)\n",
    "\n",
    "\n",
    "\n",
    "\n",
    "cross1=np.matmul(arr1,arr2)\n",
    "print(\"\\nFinal Result Array=\" ,cross1)\n",
    "\n",
    "time_cross1=time.time()-start_time_1\n",
    "\n",
    "print(\"\\nTime to multiply  2 100*100 matrices\", time_cross1,\"seconds\")\n",
    "\n",
    "\n",
    "\n",
    "\n"
   ]
  },
  {
   "cell_type": "code",
   "execution_count": 2,
   "id": "0c26cd93",
   "metadata": {},
   "outputs": [
    {
     "name": "stdout",
     "output_type": "stream",
     "text": [
      "arr1= [[135  57  80 ...  56 123 180]\n",
      " [140 186 168 ... 158  87 169]\n",
      " [  9  55 165 ... 151 101 106]\n",
      " ...\n",
      " [169  39 113 ... 176  22  39]\n",
      " [ 51  70 107 ... 162 112  35]\n",
      " [152 108 126 ... 150 110 111]]\n",
      "\n",
      "arr2= [[120 197  78 ... 137  63 125]\n",
      " [ 80   8 132 ...  67 155 177]\n",
      " [197 102  33 ... 161 160 140]\n",
      " ...\n",
      " [ 83 169  27 ... 157  92  52]\n",
      " [172 151  20 ...  35 172 144]\n",
      " [107   1  91 ...  75  72 160]]\n",
      "\n",
      "Final Result Array= [[2066966 1855239 2015697 ... 2017486 1909734 2099595]\n",
      " [1976281 1878949 1949405 ... 2028050 1862518 1983337]\n",
      " [2095704 1788190 2025063 ... 2119153 2006732 2035836]\n",
      " ...\n",
      " [2244357 2028688 2129821 ... 2224795 2219170 2206375]\n",
      " [2145691 1894558 1921003 ... 2093784 1994155 2127110]\n",
      " [2130352 1942950 2086298 ... 2142498 2014466 2189520]]\n",
      "\n",
      "Time to multiply  2 200*200 matrices 0.008478164672851562 seconds\n"
     ]
    }
   ],
   "source": [
    "# 200*200\n",
    "\n",
    "start_time_2=time.time()\n",
    "\n",
    "arr1=np.random.randint(200,size=(200,200))\n",
    "\n",
    "print(\"arr1=\", arr1)\n",
    "\n",
    "arr2=np.random.randint(200,size=(200,200))\n",
    "\n",
    "print(\"\\narr2=\", arr2)\n",
    "\n",
    "\n",
    "\n",
    "\n",
    "\n",
    "cross2=np.matmul(arr1,arr2)\n",
    "print(\"\\nFinal Result Array=\" ,cross2)\n",
    "\n",
    "time_cross2=time.time()-start_time_2\n",
    "\n",
    "print(\"\\nTime to multiply  2 200*200 matrices\", time_cross2,\"seconds\")\n"
   ]
  },
  {
   "cell_type": "code",
   "execution_count": 5,
   "id": "e383a924",
   "metadata": {},
   "outputs": [
    {
     "name": "stdout",
     "output_type": "stream",
     "text": [
      "arr1= [[298 151 200 ... 269 202 147]\n",
      " [125 202  58 ... 133  29 128]\n",
      " [ 18  46  97 ... 157  52 190]\n",
      " ...\n",
      " [239  53  43 ...  27 269 228]\n",
      " [ 21 148 199 ...  33 216 294]\n",
      " [109 117 264 ... 230 245  12]]\n",
      "\n",
      "arr2= [[246 100 238 ... 250  83 241]\n",
      " [ 27  84 167 ... 127 241 110]\n",
      " [195 191 102 ...  58 225 145]\n",
      " ...\n",
      " [133  43 166 ... 145  89 104]\n",
      " [ 22   4 109 ... 241  24 242]\n",
      " [161 292 228 ...  71  41  70]]\n",
      "\n",
      "Final Result Array= [[6108089 7052944 7005151 ... 6496612 6185379 6699250]\n",
      " [6275903 6951413 6774559 ... 6578964 6243756 6859161]\n",
      " [6471746 7196552 7066079 ... 6300480 6059399 6757602]\n",
      " ...\n",
      " [6484873 7519738 7145955 ... 6866405 6535879 7113665]\n",
      " [6158512 7339481 6848820 ... 6384151 5931928 6544818]\n",
      " [6102970 6995748 6677633 ... 6156073 6011755 6852466]]\n",
      "\n",
      "Time to multiply  2 300*300 matrices 0.026839017868041992 seconds\n"
     ]
    }
   ],
   "source": [
    "#300*300\n",
    "\n",
    "start_time_3=time.time()\n",
    "\n",
    "arr1=np.random.randint(300,size=(300,300))\n",
    "\n",
    "print(\"arr1=\", arr1)\n",
    "\n",
    "arr2=np.random.randint(300,size=(300,300))\n",
    "\n",
    "print(\"\\narr2=\", arr2)\n",
    "\n",
    "\n",
    "\n",
    "\n",
    "\n",
    "cross3=np.matmul(arr1,arr2)\n",
    "print(\"\\nFinal Result Array=\" ,cross3)\n",
    "\n",
    "time_cross3=time.time()-start_time_3\n",
    "\n",
    "print(\"\\nTime to multiply  2 300*300 matrices\", time_cross3,\"seconds\")"
   ]
  },
  {
   "cell_type": "code",
   "execution_count": 6,
   "id": "0ef77933",
   "metadata": {},
   "outputs": [
    {
     "name": "stdout",
     "output_type": "stream",
     "text": [
      "arr1= [[ 57 265 142 ... 334 221 286]\n",
      " [308 104 318 ... 342 103   2]\n",
      " [227  70  30 ... 192 197 130]\n",
      " ...\n",
      " [315 157 352 ... 250  41  98]\n",
      " [240 250 206 ...  62 194 325]\n",
      " [250  12 209 ...  55 294 132]]\n",
      "\n",
      "arr2= [[ 92 269 146 ...  97 173  84]\n",
      " [ 48 239  37 ... 352 320  18]\n",
      " [219  56 390 ...  48 130 298]\n",
      " ...\n",
      " [254  24 113 ... 235 228 217]\n",
      " [198 285 224 ... 154 293 338]\n",
      " [274 328 386 ... 399 155 181]]\n",
      "\n",
      "Final Result Array= [[16335505 15980146 15863591 ... 16340507 15593510 16188942]\n",
      " [17010757 15975151 16410002 ... 15898422 15880885 16105578]\n",
      " [16876366 16208785 16157473 ... 15901525 15799023 16151056]\n",
      " ...\n",
      " [16434305 15327745 15405956 ... 15851752 15187046 15634252]\n",
      " [16834249 16118474 16322352 ... 15947526 15360147 16013084]\n",
      " [16478861 15768444 16319938 ... 15309821 15209204 16062943]]\n",
      "\n",
      "Time to multiply  2 400*400 matrices 0.07388806343078613 seconds\n"
     ]
    }
   ],
   "source": [
    "#400*400\n",
    "\n",
    "start_time_4=time.time()\n",
    "\n",
    "arr1=np.random.randint(400,size=(400,400))\n",
    "\n",
    "print(\"arr1=\", arr1)\n",
    "\n",
    "arr2=np.random.randint(400,size=(400,400))\n",
    "\n",
    "print(\"\\narr2=\", arr2)\n",
    "\n",
    "\n",
    "\n",
    "cross4=np.matmul(arr1,arr2)\n",
    "print(\"\\nFinal Result Array=\" ,cross4)\n",
    "\n",
    "\n",
    "\n",
    "time_cross4=time.time()-start_time_4\n",
    "\n",
    "print(\"\\nTime to multiply  2 400*400 matrices\", time_cross4,\"seconds\")"
   ]
  },
  {
   "cell_type": "code",
   "execution_count": 7,
   "id": "b5682a15",
   "metadata": {},
   "outputs": [
    {
     "name": "stdout",
     "output_type": "stream",
     "text": [
      "arr1= [[424 198 284 ... 454 159  35]\n",
      " [243 211 308 ... 277 370 116]\n",
      " [  5 269 102 ... 120 113  26]\n",
      " ...\n",
      " [194 293 395 ...   5 244 353]\n",
      " [299 274  40 ... 304  41 218]\n",
      " [495 228   9 ... 277 369 381]]\n",
      "\n",
      "arr2= [[457 251 386 ... 131 357  16]\n",
      " [159 221 448 ... 483 312  92]\n",
      " [254 323 184 ... 229 162 185]\n",
      " ...\n",
      " [407   8 447 ...  14  29 424]\n",
      " [457 246  21 ... 173 116 467]\n",
      " [224   6 170 ... 441 136 247]]\n",
      "\n",
      "Final Result Array= [[29032116 29510908 28831029 ... 28871778 29623347 30231013]\n",
      " [32101183 32239374 32465689 ... 31238599 33110372 32370259]\n",
      " [29870799 30042975 29701955 ... 29664075 31013664 30121786]\n",
      " ...\n",
      " [30954551 30525388 30039746 ... 30463129 30433865 31743728]\n",
      " [29851054 30555425 31397291 ... 28887871 30683793 30905704]\n",
      " [29586654 29128286 28799744 ... 28806137 29488501 29271305]]\n",
      "\n",
      "Time to multiply  2 500*500 matrices 0.11457419395446777 seconds\n"
     ]
    }
   ],
   "source": [
    "#500*500\n",
    "\n",
    "start_time_5=time.time()\n",
    "\n",
    "arr1=np.random.randint(500,size=(500,500))\n",
    "\n",
    "print(\"arr1=\", arr1)\n",
    "\n",
    "arr2=np.random.randint(500,size=(500,500))\n",
    "\n",
    "print(\"\\narr2=\", arr2)\n",
    "\n",
    "\n",
    "\n",
    "cross5=np.matmul(arr1,arr2)\n",
    "print(\"\\nFinal Result Array=\" ,cross5)\n",
    "\n",
    "\n",
    "time_cross5=time.time()-start_time_5\n",
    "\n",
    "print(\"\\nTime to multiply  2 500*500 matrices\", time_cross5,\"seconds\")"
   ]
  },
  {
   "cell_type": "code",
   "execution_count": 8,
   "id": "7c3351f4",
   "metadata": {},
   "outputs": [
    {
     "name": "stdout",
     "output_type": "stream",
     "text": [
      "arr1= [[995 398 304 ... 398 257 746]\n",
      " [530 436 394 ... 482 992 262]\n",
      " [459 506 483 ... 293 921 327]\n",
      " ...\n",
      " [806 129 337 ... 244 235 301]\n",
      " [301   8 902 ... 632  84 434]\n",
      " [ 67 622 322 ...  84 529 142]]\n",
      "\n",
      "arr2= [[698 580 408 ... 607 120 936]\n",
      " [537 287 114 ... 967  78   5]\n",
      " [706 544  57 ... 215 476  90]\n",
      " ...\n",
      " [586 388 686 ... 369 628 124]\n",
      " [ 93  60  52 ... 839 878 494]\n",
      " [920 962  29 ... 572 236 775]]\n",
      "\n",
      "Final Result Array= [[262519481 259973938 256750636 ... 256515389 247404608 263272584]\n",
      " [254933877 246057349 247838749 ... 242376161 237797103 250377794]\n",
      " [254390466 243183969 246069769 ... 237834705 236330117 252957149]\n",
      " ...\n",
      " [254596137 255036831 256902914 ... 247661296 243602314 261757356]\n",
      " [251387016 246198888 252572303 ... 244878084 238430314 252074396]\n",
      " [262891575 251980164 249143235 ... 250687519 248235337 259512411]]\n",
      "\n",
      "Time to multiply  2 1000*1000 matrices 1.9049029350280762 seconds\n"
     ]
    }
   ],
   "source": [
    "#1000*1000\n",
    "\n",
    "start_time_6=time.time()\n",
    "\n",
    "arr1=np.random.randint(1000,size=(1000,1000))\n",
    "\n",
    "print(\"arr1=\", arr1)\n",
    "\n",
    "arr2=np.random.randint(1000,size=(1000,1000))\n",
    "\n",
    "print(\"\\narr2=\", arr2)\n",
    "\n",
    "\n",
    "\n",
    "cross6=np.dot(arr1,arr2)\n",
    "print(\"\\nFinal Result Array=\" ,cross6)\n",
    "\n",
    "\n",
    "time_cross6=time.time()-start_time_6\n",
    "\n",
    "print(\"\\nTime to multiply  2 1000*1000 matrices\", time_cross6,\"seconds\")"
   ]
  },
  {
   "cell_type": "code",
   "execution_count": 9,
   "id": "fe12ea7d",
   "metadata": {},
   "outputs": [
    {
     "name": "stdout",
     "output_type": "stream",
     "text": [
      "arr1= [[1817 1526  980 ...  739 1718 1840]\n",
      " [1833 1573  583 ...  174  181  699]\n",
      " [ 424 1185  931 ... 1631 1653  488]\n",
      " ...\n",
      " [ 444  309  622 ... 1572  705 1513]\n",
      " [1255  262  223 ... 1855 1383 1966]\n",
      " [1731 1280 1381 ...  274  761   93]]\n",
      "\n",
      "arr2= [[ 716 1651  925 ...  308  594  267]\n",
      " [ 675  267 1453 ...  545  622 1709]\n",
      " [1464 1869  383 ... 1109 1472  170]\n",
      " ...\n",
      " [ 538 1008 1482 ...  251  243 1002]\n",
      " [ 894  611 1175 ...  478 1689 1442]\n",
      " [ 358  189 1751 ... 1113 1280  106]]\n",
      "\n",
      "Final Result Array= [[1928600632 1910736822 1944343355 ... 1948072253 2046755318 1914151891]\n",
      " [2029373886 1967414163 2018015697 ... 1981843852 2119088492 1993984348]\n",
      " [1960355586 1904689749 1965535976 ... 1938980616 2076797463 1943854960]\n",
      " ...\n",
      " [1949003871 1959046176 1984631383 ... 1949370205 2080775805 1948678201]\n",
      " [1986539625 1976702347 2018976759 ... 1993420053 2084186918 1988041768]\n",
      " [2004879517 1973198616 2010078641 ... 1999925199 2074177204 2016663676]]\n",
      "\n",
      "Time to multiply  2 2000*2000 matrices 36.65737771987915 seconds\n"
     ]
    }
   ],
   "source": [
    "#2000*2000\n",
    "\n",
    "start_time_7=time.time()\n",
    "\n",
    "arr1=np.random.randint(2000,size=(2000,2000))\n",
    "\n",
    "print(\"arr1=\", arr1)\n",
    "\n",
    "arr2=np.random.randint(2000,size=(2000,2000))\n",
    "\n",
    "print(\"\\narr2=\", arr2)\n",
    "\n",
    "\n",
    "\n",
    "cross7=np.dot(arr1,arr2)\n",
    "print(\"\\nFinal Result Array=\" ,cross7)\n",
    "\n",
    "\n",
    "time_cross7=time.time()-start_time_7\n",
    "\n",
    "print(\"\\nTime to multiply  2 2000*2000 matrices\", time_cross7,\"seconds\")"
   ]
  },
  {
   "cell_type": "code",
   "execution_count": 10,
   "id": "c3c139eb",
   "metadata": {},
   "outputs": [
    {
     "name": "stdout",
     "output_type": "stream",
     "text": [
      "arr1= [[2362 2577 2622 ... 1351 1033 1707]\n",
      " [ 777 2831 2745 ... 1414  423 2413]\n",
      " [ 681  245 1590 ... 2919  845  501]\n",
      " ...\n",
      " [ 683 1451 1074 ... 2031  712 2438]\n",
      " [1539 2145 2002 ... 2743  662 2461]\n",
      " [1241  785 1347 ... 1495 1405  259]]\n",
      "\n",
      "arr2= [[2510 1975  362 ... 2913  224 1589]\n",
      " [2629  757  692 ... 2014  164  965]\n",
      " [ 630  875  376 ... 2100 2123  869]\n",
      " ...\n",
      " [2863 2552 1285 ...  119  487 1148]\n",
      " [2005  329  253 ... 1207 1153 1194]\n",
      " [1851 2494 2005 ... 1956  420  765]]\n",
      "\n",
      "Final Result Array= [[6811683340 6759586172 6704114888 ... 6830605454 6769029123 6868998072]\n",
      " [6854478323 6805714843 6734370041 ... 6812178789 6773388939 6878218238]\n",
      " [6706414458 6695257443 6632991525 ... 6724347484 6718234859 6791365297]\n",
      " ...\n",
      " [6852702220 6745863255 6677698916 ... 6771405712 6689518221 6889980838]\n",
      " [6669124191 6661918168 6554127870 ... 6672698900 6556472943 6671787799]\n",
      " [6894258506 6779362769 6722120547 ... 6826519821 6758780941 6852415952]]\n",
      "\n",
      "Time to multiply  2 3000*3000 matrices 157.8417088985443 seconds\n"
     ]
    }
   ],
   "source": [
    "#3000*3000\n",
    "\n",
    "start_time_8=time.time()\n",
    "\n",
    "arr1=np.random.randint(3000,size=(3000,3000))\n",
    "\n",
    "print(\"arr1=\", arr1)\n",
    "\n",
    "arr2=np.random.randint(3000,size=(3000,3000))\n",
    "\n",
    "print(\"\\narr2=\", arr2)\n",
    "\n",
    "\n",
    "\n",
    "cross8=np.dot(arr1,arr2)\n",
    "print(\"\\nFinal Result Array=\" ,cross8)\n",
    "\n",
    "\n",
    "time_cross8=time.time()-start_time_8\n",
    "\n",
    "print(\"\\nTime to multiply  2 3000*3000 matrices\", time_cross8,\"seconds\")"
   ]
  },
  {
   "cell_type": "code",
   "execution_count": 11,
   "id": "831a543f",
   "metadata": {},
   "outputs": [
    {
     "name": "stdout",
     "output_type": "stream",
     "text": [
      "arr1= [[ 539  521 1350 ...  480 3201 1792]\n",
      " [1887 2908  975 ... 2947  603  175]\n",
      " [  21 2502 3920 ...  470  874 2441]\n",
      " ...\n",
      " [ 814  749 1577 ... 1237  946 1998]\n",
      " [ 943  159 1536 ...  708 2213 3145]\n",
      " [3128 2845 2923 ...  192 2670 3148]]\n",
      "\n",
      "arr2= [[3104 2890 3398 ... 2972 3106 3256]\n",
      " [1233 2738 1376 ... 2280 3398 3193]\n",
      " [2225 1868 2208 ... 2545 3424 3411]\n",
      " ...\n",
      " [ 163  785   30 ... 1209 2214 1889]\n",
      " [3562 1849 1285 ... 3260 2616 2012]\n",
      " [ 244 1426 3074 ...  756 2912 1949]]\n",
      "\n",
      "Final Result Array= [[16058291280 15940050471 16134026340 ... 16221232531 15976906094\n",
      "  16303410407]\n",
      " [15752913335 15575049748 15799720081 ... 15929804121 15792396278\n",
      "  15868834651]\n",
      " [16035572469 15763299906 15933737628 ... 16211954919 15869117429\n",
      "  16113066376]\n",
      " ...\n",
      " [15910645249 15906483020 15951223225 ... 16134050801 15937655834\n",
      "  16197909049]\n",
      " [15761989942 15585426655 15833038983 ... 15796350824 15609803031\n",
      "  15787948517]\n",
      " [16019317364 15928702339 16239321247 ... 16279025151 16140923949\n",
      "  16230787919]]\n",
      "\n",
      "Time to multiply  2 4000*4000 matrices 427.74553084373474 seconds\n"
     ]
    }
   ],
   "source": [
    "#4000*4000\n",
    "\n",
    "start_time_9=time.time()\n",
    "\n",
    "arr1=np.random.randint(4000,size=(4000,4000))\n",
    "\n",
    "print(\"arr1=\", arr1)\n",
    "\n",
    "arr2=np.random.randint(4000,size=(4000,4000))\n",
    "\n",
    "print(\"\\narr2=\", arr2)\n",
    "\n",
    "\n",
    "\n",
    "cross9=np.dot(arr1,arr2)\n",
    "print(\"\\nFinal Result Array=\" ,cross9)\n",
    "\n",
    "\n",
    "time_cross9=time.time()-start_time_9\n",
    "\n",
    "print(\"\\nTime to multiply  2 4000*4000 matrices\", time_cross9,\"seconds\")"
   ]
  },
  {
   "cell_type": "code",
   "execution_count": 12,
   "id": "651f294f",
   "metadata": {},
   "outputs": [
    {
     "name": "stdout",
     "output_type": "stream",
     "text": [
      "arr1= [[4714 4055 1372 ...  460 4684  942]\n",
      " [1790 4623 4969 ... 3265 2690 2574]\n",
      " [1669 2541  783 ... 1980  236 4598]\n",
      " ...\n",
      " [2170 3501 1227 ... 1883  539 1821]\n",
      " [4438 3655 1183 ... 4742 3101  467]\n",
      " [2619 4341 2469 ...   58 1428 4763]]\n",
      "\n",
      "arr2= [[4611  785 1373 ... 3471 1515 3690]\n",
      " [ 534  663 4366 ... 2007 2810 4349]\n",
      " [  86 3343 2094 ... 4159 1705 3049]\n",
      " ...\n",
      " [3903  178  215 ... 1614 4233 1943]\n",
      " [4082 1198  360 ... 2989 3505 4864]\n",
      " [ 374 4915  210 ... 4243 4934 1481]]\n",
      "\n",
      "Final Result Array= [[31551576617 31146588804 30972133204 ... 31000893150 31088233623\n",
      "  31063361082]\n",
      " [31727742608 31402455913 31433041669 ... 31042044890 31240357557\n",
      "  31280590367]\n",
      " [31536896738 30642711963 30990405487 ... 30909691846 31024117702\n",
      "  31007762178]\n",
      " ...\n",
      " [31617573196 31065984959 31292345296 ... 31051899993 31331319932\n",
      "  31206741637]\n",
      " [31901666963 31312254853 31488116559 ... 31387837242 31220609069\n",
      "  31213996379]\n",
      " [31497117919 31166012907 31289266722 ... 31533288605 31630369983\n",
      "  31455832845]]\n",
      "\n",
      "Time to multiply  2 5000*5000 matrices 915.457799911499 seconds\n"
     ]
    }
   ],
   "source": [
    "#5000*5000\n",
    "\n",
    "start_time_10=time.time()\n",
    "\n",
    "arr1=np.random.randint(5000,size=(5000,5000))\n",
    "\n",
    "print(\"arr1=\", arr1)\n",
    "\n",
    "arr2=np.random.randint(5000,size=(5000,5000))\n",
    "\n",
    "print(\"\\narr2=\", arr2)\n",
    "\n",
    "\n",
    "\n",
    "cross10=np.dot(arr1,arr2)\n",
    "print(\"\\nFinal Result Array=\" ,cross10)\n",
    "\n",
    "\n",
    "time_cross10=time.time()-start_time_10\n",
    "\n",
    "print(\"\\nTime to multiply  2 5000*5000 matrices\", time_cross10,\"seconds\")"
   ]
  },
  {
   "cell_type": "code",
   "execution_count": 13,
   "id": "cfe20dd1",
   "metadata": {},
   "outputs": [
    {
     "name": "stdout",
     "output_type": "stream",
     "text": [
      "| Matrix dimension   |   Time taken in seconds |\n",
      "|--------------------+-------------------------|\n",
      "| 100                |              0.00255585 |\n",
      "| 200                |              0.00847816 |\n",
      "| 300                |              0.026839   |\n",
      "| 400                |              0.0738881  |\n",
      "| 500                |              0.114574   |\n",
      "| 1K                 |              1.9049     |\n",
      "| 2K                 |             36.6574     |\n",
      "| 3K                 |            157.842      |\n",
      "| 4K                 |            427.746      |\n",
      "| 5K                 |            915.458      |\n"
     ]
    },
    {
     "data": {
      "image/png": "[encoded data removed]",
      "text/plain": [
       "<Figure size 432x288 with 1 Axes>"
      ]
     },
     "metadata": {
      "needs_background": "light"
     },
     "output_type": "display_data"
    }
   ],
   "source": [
    "from tabulate import tabulate\n",
    "\n",
    "\n",
    "\n",
    "x1=[\"100\",\"200\",\"300\",\"400\",\"500\",\"1K\",\"2K\",\"3K\",\"4K\",\"5K\"]\n",
    "\n",
    "y1=[time_cross1,time_cross2,time_cross3,time_cross4,time_cross5,time_cross6,time_cross7,time_cross8,time_cross9,time_cross10]\n",
    "plt.plot(x1,y1)\n",
    "\n",
    "plt.xlabel(\"Matrix dimension\")\n",
    "\n",
    "plt.ylabel(\"Time taken in seconds\")\n",
    "\n",
    "l = [[\"100\",time_cross1],[\"200\",time_cross2], [\"300\",time_cross3], [\"400\",time_cross4] , [\"500\",time_cross5],[\"1K\",time_cross6],[\"2K\",time_cross7],[\"3K\",time_cross8],[\"4K\",time_cross9],[\"5K\",time_cross10]]\n",
    "table = tabulate(l, headers=['Matrix dimension', 'Time taken in seconds'], tablefmt='orgtbl')\n",
    "\n",
    "print(table)"
   ]
  },
  {
   "cell_type": "code",
   "execution_count": 14,
   "id": "99aaca90",
   "metadata": {},
   "outputs": [
    {
     "data": {
      "text/plain": [
       "Text(0, 0.5, 'Time taken in seconds')"
      ]
     },
     "execution_count": 14,
     "metadata": {},
     "output_type": "execute_result"
    },
    {
     "data": {
      "image/png": "[encoded data removed]",
      "text/plain": [
       "<Figure size 432x288 with 1 Axes>"
      ]
     },
     "metadata": {
      "needs_background": "light"
     },
     "output_type": "display_data"
    }
   ],
   "source": [
    "plt.scatter(x1,y1)\n",
    "\n",
    "plt.xlabel(\"Matrix dimension\")\n",
    "\n",
    "plt.ylabel(\"Time taken in seconds\")"
   ]
  },
  {
   "cell_type": "markdown",
   "id": "6bf977a3",
   "metadata": {},
   "source": []
  },
  {
   "cell_type": "code",
   "execution_count": null,
   "id": "e62dcf87",
   "metadata": {},
   "outputs": [],
   "source": []
  },
  {
   "cell_type": "code",
   "execution_count": null,
   "id": "eb334274",
   "metadata": {},
   "outputs": [],
   "source": []
  }
 ],
 "metadata": {
  "kernelspec": {
   "display_name": "Python 3",
   "language": "python",
   "name": "python3"
  },
  "language_info": {
   "codemirror_mode": {
    "name": "ipython",
    "version": 3
   },
   "file_extension": ".py",
   "mimetype": "text/x-python",
   "name": "python",
   "nbconvert_exporter": "python",
   "pygments_lexer": "ipython3",
   "version": "3.8.8"
  }
 },
 "nbformat": 4,
 "nbformat_minor": 5
}

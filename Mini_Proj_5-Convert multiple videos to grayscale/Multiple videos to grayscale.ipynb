{
 "cells": [
  {
   "cell_type": "markdown",
   "id": "68084fdd",
   "metadata": {},
   "source": [
    "# Convert multiple videos from a folder to grayscale in Python and save it in a directory"
   ]
  },
  {
   "cell_type": "code",
   "execution_count": 2,
   "id": "7a326cc8",
   "metadata": {},
   "outputs": [
    {
     "name": "stdout",
     "output_type": "stream",
     "text": [
      "Time taken to convert 10 videos is  3.119410991668701 seconds\n",
      "Time taken to convert 20 videos is  4.917872905731201 seconds\n",
      "Time taken to convert 30 videos is  6.754238843917847 seconds\n",
      "Time taken to convert 40 videos is  8.641820907592773 seconds\n",
      "Time taken to convert 50 videos is  10.5816650390625 seconds\n",
      "|   Number of vidoes |   Time taken in seconds |\n",
      "|--------------------+-------------------------|\n",
      "|                 10 |                 3.11941 |\n",
      "|                 20 |                 4.91787 |\n",
      "|                 30 |                 6.75424 |\n",
      "|                 40 |                 8.64182 |\n",
      "|                 50 |                10.5817  |\n"
     ]
    },
    {
     "data": {
      "text/plain": [
       "Text(0, 0.5, 'Time taken in seconds')"
      ]
     },
     "execution_count": 2,
     "metadata": {},
     "output_type": "execute_result"
    },
    {
     "data": {
      "image/png": "[encoded data removed]",
      "text/plain": [
       "<Figure size 432x288 with 1 Axes>"
      ]
     },
     "metadata": {
      "needs_background": "light"
     },
     "output_type": "display_data"
    }
   ],
   "source": [
    "import os\n",
    "import glob\n",
    "import time\n",
    "import ffmpy\n",
    "import re\n",
    "import shutil\n",
    "from os import listdir, makedirs\n",
    "from os.path import isfile, join\n",
    "from tabulate import tabulate\n",
    "import matplotlib.pyplot as plt\n",
    "\n",
    "start_time = time.time()\n",
    "import cv2\n",
    "\n",
    "time1 = 0\n",
    "time2 = 0\n",
    "time3 = 0\n",
    "time4 = 0\n",
    "time5 = 0\n",
    "\n",
    "\n",
    "for i in range(50):\n",
    "    shutil.copyfile(\n",
    "        \"/Users/vatsalnanda/Desktop/Research Interns and Papers/prashant_singh_rana_sir/Mini_Proj_5-Convert multiple videos to grayscale/input_vid.mp4\",\n",
    "        dst=f\"/Users/vatsalnanda/Desktop/Research Interns and Papers/prashant_singh_rana_sir/Mini_Proj_5-Convert multiple videos to grayscale/video_dir/vid{i}.mp4\")\n",
    "\n",
    "for i in range(50):\n",
    "\n",
    "    inp = '/Users/vatsalnanda/Desktop/Research Interns and Papers/prashant_singh_rana_sir/Mini_Proj_5-Convert multiple videos to grayscale/video_dir/vid'\n",
    "\n",
    "    cap = cv2.VideoCapture(inp + str(i) + '.mp4')\n",
    "\n",
    "    # li = os.listdir(\n",
    "    #     '/Users/vatsalnanda/Desktop/Research Interns and Papers/prashant_singh_rana_sir/Mini_Proj_5-Convert multiple videos to grayscale/video_dir')\n",
    "    # print(li)\n",
    "    fourcc = cv2.VideoWriter_fourcc('m', 'p', '4', 'v')\n",
    "\n",
    "    path = '/Users/vatsalnanda/Desktop/Research Interns and Papers/prashant_singh_rana_sir/Mini_Proj_5-Convert multiple videos to grayscale/video_out_dir/output'\n",
    "    out = cv2.VideoWriter(path + str(i) + '.mp4', fourcc, 20.0, (640, 480))\n",
    "\n",
    "    while (cap.isOpened()):\n",
    "        ret, frame = cap.read()\n",
    "        gray = cv2.cvtColor(frame, cv2.COLOR_BGR2GRAY)\n",
    "        out.write(frame)\n",
    "        cv2.imshow('frame', gray)\n",
    "\n",
    "        if i == 9:\n",
    "            time1 = time.time() - start_time\n",
    "\n",
    "\n",
    "\n",
    "        if i == 19:\n",
    "            time2 = time.time() - start_time\n",
    "\n",
    "\n",
    "        if i == 29:\n",
    "            time3 = time.time() - start_time\n",
    "\n",
    "\n",
    "\n",
    "        if i == 39:\n",
    "            time4 = time.time() - start_time\n",
    "\n",
    "\n",
    "\n",
    "        if i == 49:\n",
    "            time5 = time.time() - start_time\n",
    "\n",
    "\n",
    "\n",
    "        if cv2.waitKey(1) & 0xFF == ord('q'):\n",
    "            break\n",
    "\n",
    "\n",
    "print(\"Time taken to convert 10 videos is \", time1, \"seconds\")\n",
    "\n",
    "print(\"Time taken to convert 20 videos is \", time2, \"seconds\")\n",
    "\n",
    "print(\"Time taken to convert 30 videos is \", time3, \"seconds\")\n",
    "\n",
    "print(\"Time taken to convert 40 videos is \", time4, \"seconds\")\n",
    "\n",
    "print(\"Time taken to convert 50 videos is \", time5, \"seconds\")\n",
    "\n",
    "\n",
    "\n",
    "\n",
    "cap.release()\n",
    "out.release()\n",
    "cv2.destroyAllWindows()\n",
    "\n",
    "\n",
    "x=[\"10\",\"20\",\"30\",\"40\",\"50\"]\n",
    "\n",
    "y=[time1,time2,time3,time4,time5]\n",
    "\n",
    "\n",
    "l = [[\"10\",time1],[\"20\",time2], [\"30\",time3], [\"40\",time4] , [\"50\",time5]]\n",
    "table = tabulate(l, headers=['Number of vidoes', 'Time taken in seconds'], tablefmt='orgtbl')\n",
    "\n",
    "\n",
    "print(table)\n",
    "\n",
    "plt.plot(x,y)\n",
    "\n",
    "plt.xlabel(\"Number of videos\")\n",
    "\n",
    "plt.ylabel(\"Time taken in seconds\")\n"
   ]
  },
  {
   "cell_type": "code",
   "execution_count": null,
   "id": "86c1eb58",
   "metadata": {},
   "outputs": [],
   "source": [
    "\n"
   ]
  },
  {
   "cell_type": "code",
   "execution_count": null,
   "id": "8748f2c5",
   "metadata": {},
   "outputs": [],
   "source": []
  },
  {
   "cell_type": "code",
   "execution_count": null,
   "id": "90095b9c",
   "metadata": {},
   "outputs": [],
   "source": []
  }
 ],
 "metadata": {
  "kernelspec": {
   "display_name": "Python 3",
   "language": "python",
   "name": "python3"
  },
  "language_info": {
   "codemirror_mode": {
    "name": "ipython",
    "version": 3
   },
   "file_extension": ".py",
   "mimetype": "text/x-python",
   "name": "python",
   "nbconvert_exporter": "python",
   "pygments_lexer": "ipython3",
   "version": "3.8.8"
  }
 },
 "nbformat": 4,
 "nbformat_minor": 5
}
